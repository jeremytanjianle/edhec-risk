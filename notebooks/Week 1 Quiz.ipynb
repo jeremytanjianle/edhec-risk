{
 "cells": [
  {
   "cell_type": "code",
   "execution_count": 1,
   "id": "77c3c3ec",
   "metadata": {},
   "outputs": [
    {
     "data": {
      "text/plain": [
       "['ind49_m_vw_rets.csv',\n",
       " 'F-F_Research_Data_Factors_daily.CSV',\n",
       " 'sample_prices.csv',\n",
       " 'ind30_m_vw_rets.csv',\n",
       " 'Portfolios_Formed_on_ME_monthly_EW.csv',\n",
       " 'ind30_m_size.csv',\n",
       " 'ind30_m_nfirms.csv',\n",
       " 'ind49_m_ew_rets.csv',\n",
       " 'F-F_Research_Data_Factors_m.csv',\n",
       " 'F-F_Research_Data_Factors.CSV',\n",
       " 'ind30_m_ew_rets.csv',\n",
       " 'brka_d_ret.csv',\n",
       " 'ind49_m_nfirms.csv',\n",
       " 'ind49_m_size.csv',\n",
       " 'BRK-A.csv',\n",
       " 'edhec-hedgefundindices.csv']"
      ]
     },
     "execution_count": 1,
     "metadata": {},
     "output_type": "execute_result"
    }
   ],
   "source": [
    "import os\n",
    "\n",
    "if 'notebook' in os.getcwd():\n",
    "    os.chdir('..')\n",
    "os.listdir('data')"
   ]
  },
  {
   "cell_type": "markdown",
   "id": "6b9100dc",
   "metadata": {},
   "source": [
    "## Calc annualized returns of Lo20 through entire period"
   ]
  },
  {
   "cell_type": "markdown",
   "id": "db8dd32a",
   "metadata": {},
   "source": [
    "\n",
    "Read in the data in the file “Portfolios_Formed_on_ME_monthly_EW.csv” as we did in the lab sessions.We performed a series of analysis on the ‘Lo 10’ and the ‘Hi 10’ columns which are the returns of the lowest and highest decile portfolios. For purposes of this assignment, we will use the lowest and highest quintile portfolios, which are labelled ‘Lo 20’ and ‘Hi 20’ respectively.\n",
    "\n",
    "1. What was the Annualized Return of the Lo 20 portfolio over the entire period?\n",
    "2. What was the Annualized Volatility of the Lo 20 portfolio over the entire period? \n",
    "3. What was the Annualized Return of the Hi 20 portfolio over the entire period?     \n",
    "4. What was the Annualized Volatility of the Hi 20 portfolio over the entire period ?  "
   ]
  },
  {
   "cell_type": "code",
   "execution_count": 78,
   "id": "94834c0c",
   "metadata": {},
   "outputs": [
    {
     "data": {
      "text/html": [
       "<div>\n",
       "<style scoped>\n",
       "    .dataframe tbody tr th:only-of-type {\n",
       "        vertical-align: middle;\n",
       "    }\n",
       "\n",
       "    .dataframe tbody tr th {\n",
       "        vertical-align: top;\n",
       "    }\n",
       "\n",
       "    .dataframe thead th {\n",
       "        text-align: right;\n",
       "    }\n",
       "</style>\n",
       "<table border=\"1\" class=\"dataframe\">\n",
       "  <thead>\n",
       "    <tr style=\"text-align: right;\">\n",
       "      <th></th>\n",
       "      <th>Lo 20</th>\n",
       "      <th>Hi 20</th>\n",
       "    </tr>\n",
       "  </thead>\n",
       "  <tbody>\n",
       "    <tr>\n",
       "      <th>1926-07-01</th>\n",
       "      <td>-0.0057</td>\n",
       "      <td>0.0333</td>\n",
       "    </tr>\n",
       "    <tr>\n",
       "      <th>1926-08-01</th>\n",
       "      <td>0.0384</td>\n",
       "      <td>0.0233</td>\n",
       "    </tr>\n",
       "    <tr>\n",
       "      <th>1926-09-01</th>\n",
       "      <td>-0.0048</td>\n",
       "      <td>-0.0009</td>\n",
       "    </tr>\n",
       "    <tr>\n",
       "      <th>1926-10-01</th>\n",
       "      <td>-0.0329</td>\n",
       "      <td>-0.0295</td>\n",
       "    </tr>\n",
       "    <tr>\n",
       "      <th>1926-11-01</th>\n",
       "      <td>-0.0055</td>\n",
       "      <td>0.0316</td>\n",
       "    </tr>\n",
       "  </tbody>\n",
       "</table>\n",
       "</div>"
      ],
      "text/plain": [
       "             Lo 20   Hi 20\n",
       "1926-07-01 -0.0057  0.0333\n",
       "1926-08-01  0.0384  0.0233\n",
       "1926-09-01 -0.0048 -0.0009\n",
       "1926-10-01 -0.0329 -0.0295\n",
       "1926-11-01 -0.0055  0.0316"
      ]
     },
     "execution_count": 78,
     "metadata": {},
     "output_type": "execute_result"
    }
   ],
   "source": [
    "import pandas as pd\n",
    "\n",
    "rets = pd.read_csv(\"data/Portfolios_Formed_on_ME_monthly_EW.csv\", index_col=0)\n",
    "rets.index = pd.to_datetime(rets.index, format=\"%Y%m\")\n",
    "rets = rets.loc[:,['Lo 20', 'Hi 20']]\n",
    "# rets = rets.loc['1999':'2015']\n",
    "rets = rets/100\n",
    "rets.head()"
   ]
  },
  {
   "cell_type": "markdown",
   "id": "fbb77c16",
   "metadata": {},
   "source": [
    "Annualized returns"
   ]
  },
  {
   "cell_type": "code",
   "execution_count": 81,
   "id": "32105d7c",
   "metadata": {},
   "outputs": [
    {
     "data": {
      "text/plain": [
       "Lo 20    0.1520\n",
       "Hi 20    0.0985\n",
       "dtype: float64"
      ]
     },
     "execution_count": 81,
     "metadata": {},
     "output_type": "execute_result"
    }
   ],
   "source": [
    "returns_per_month = ((rets+1).prod())**(1/len(rets)) - 1\n",
    "annualized_returns = (returns_per_month + 1)**12 -1\n",
    "annualized_returns.round(4)"
   ]
  },
  {
   "cell_type": "markdown",
   "id": "6dfd29c4",
   "metadata": {},
   "source": [
    "Annualized volatility"
   ]
  },
  {
   "cell_type": "code",
   "execution_count": 82,
   "id": "fe852c7a",
   "metadata": {},
   "outputs": [
    {
     "data": {
      "text/plain": [
       "Lo 20    0.3367\n",
       "Hi 20    0.1951\n",
       "dtype: float64"
      ]
     },
     "execution_count": 82,
     "metadata": {},
     "output_type": "execute_result"
    }
   ],
   "source": [
    "annualized_volatility = rets.std()*(12**0.5)\n",
    "annualized_volatility.round(4)"
   ]
  },
  {
   "cell_type": "markdown",
   "id": "5136f8d9",
   "metadata": {},
   "source": [
    "## Calc Returns & Volatility in 1999-2015"
   ]
  },
  {
   "cell_type": "markdown",
   "id": "b1250278",
   "metadata": {},
   "source": [
    "1. What was the Annualized Return of the Lo 20 portfolio over the period 1999 - 2015 (both inclusive)? \n",
    "2. What was the Annualized Volatility of the Lo 20 portfolio over the period 1999 - 2015 (both inclusive)? \n",
    "3. What was the Annualized Return of the Hi 20 portfolio over the period  1999 - 2015 (both inclusive)?\n",
    "4. What was the Annualized Volatility of the Hi 20 portfolio over the period 1999 - 2015 (both inclusive)?  "
   ]
  },
  {
   "cell_type": "code",
   "execution_count": 83,
   "id": "92aa7e32",
   "metadata": {},
   "outputs": [
    {
     "data": {
      "text/html": [
       "<div>\n",
       "<style scoped>\n",
       "    .dataframe tbody tr th:only-of-type {\n",
       "        vertical-align: middle;\n",
       "    }\n",
       "\n",
       "    .dataframe tbody tr th {\n",
       "        vertical-align: top;\n",
       "    }\n",
       "\n",
       "    .dataframe thead th {\n",
       "        text-align: right;\n",
       "    }\n",
       "</style>\n",
       "<table border=\"1\" class=\"dataframe\">\n",
       "  <thead>\n",
       "    <tr style=\"text-align: right;\">\n",
       "      <th></th>\n",
       "      <th>Lo 20</th>\n",
       "      <th>Hi 20</th>\n",
       "    </tr>\n",
       "  </thead>\n",
       "  <tbody>\n",
       "    <tr>\n",
       "      <th>1999-01-01</th>\n",
       "      <td>0.1114</td>\n",
       "      <td>0.0153</td>\n",
       "    </tr>\n",
       "    <tr>\n",
       "      <th>1999-02-01</th>\n",
       "      <td>-0.0399</td>\n",
       "      <td>-0.0172</td>\n",
       "    </tr>\n",
       "    <tr>\n",
       "      <th>1999-03-01</th>\n",
       "      <td>-0.0308</td>\n",
       "      <td>0.0368</td>\n",
       "    </tr>\n",
       "    <tr>\n",
       "      <th>1999-04-01</th>\n",
       "      <td>0.0824</td>\n",
       "      <td>0.0679</td>\n",
       "    </tr>\n",
       "    <tr>\n",
       "      <th>1999-05-01</th>\n",
       "      <td>0.0435</td>\n",
       "      <td>-0.0048</td>\n",
       "    </tr>\n",
       "  </tbody>\n",
       "</table>\n",
       "</div>"
      ],
      "text/plain": [
       "             Lo 20   Hi 20\n",
       "1999-01-01  0.1114  0.0153\n",
       "1999-02-01 -0.0399 -0.0172\n",
       "1999-03-01 -0.0308  0.0368\n",
       "1999-04-01  0.0824  0.0679\n",
       "1999-05-01  0.0435 -0.0048"
      ]
     },
     "execution_count": 83,
     "metadata": {},
     "output_type": "execute_result"
    }
   ],
   "source": [
    "import pandas as pd\n",
    "\n",
    "rets = pd.read_csv(\"data/Portfolios_Formed_on_ME_monthly_EW.csv\", index_col=0)\n",
    "rets.index = pd.to_datetime(rets.index, format=\"%Y%m\")\n",
    "rets = rets.loc[:,['Lo 20', 'Hi 20']]\n",
    "rets = rets.loc['1999':'2015']\n",
    "rets = rets/100\n",
    "rets.head()"
   ]
  },
  {
   "cell_type": "markdown",
   "id": "17435349",
   "metadata": {},
   "source": [
    "Annualized returns"
   ]
  },
  {
   "cell_type": "code",
   "execution_count": 84,
   "id": "cf4f22d1",
   "metadata": {},
   "outputs": [
    {
     "data": {
      "text/plain": [
       "Lo 20    0.1144\n",
       "Hi 20    0.0629\n",
       "dtype: float64"
      ]
     },
     "execution_count": 84,
     "metadata": {},
     "output_type": "execute_result"
    }
   ],
   "source": [
    "returns_per_month = ((rets+1).prod())**(1/len(rets)) - 1\n",
    "annualized_returns = (returns_per_month + 1)**12 -1\n",
    "annualized_returns.round(4)"
   ]
  },
  {
   "cell_type": "markdown",
   "id": "131d27da",
   "metadata": {},
   "source": [
    "Annualized volatility"
   ]
  },
  {
   "cell_type": "code",
   "execution_count": 37,
   "id": "577b5f82",
   "metadata": {},
   "outputs": [
    {
     "data": {
      "text/plain": [
       "Lo 20    0.2289\n",
       "Hi 20    0.1727\n",
       "dtype: float64"
      ]
     },
     "execution_count": 37,
     "metadata": {},
     "output_type": "execute_result"
    }
   ],
   "source": [
    "annualized_volatility = rets.std()*(12**0.5)\n",
    "annualized_volatility.round(4)"
   ]
  },
  {
   "cell_type": "markdown",
   "id": "8b762ba8",
   "metadata": {},
   "source": [
    "## Calc Drawdowns\n",
    "1. What was the Max Drawdown (expressed as a positive number) experienced over the 1999-2015 period in the SmallCap (Lo 20) portfolio?\n",
    "2. At the end of which month over the period 1999-2015 did that maximum drawdown on the SmallCap (Lo 20) portfolio occur? \n",
    "3. What was the Max Drawdown (expressed as a positive number) experienced over the 1999-2015 period in the LargeCap (Hi 20) portfolio?\n",
    "4. Over the period 1999-2015, at the end of which month did that maximum drawdown of the LargeCap (Hi 20) portfolio occur? "
   ]
  },
  {
   "cell_type": "code",
   "execution_count": 86,
   "id": "68e9789f",
   "metadata": {},
   "outputs": [],
   "source": [
    "import pandas as pd\n",
    "\n",
    "def drawdown(return_series: pd.Series):\n",
    "    \"\"\"Takes a time series of asset returns.\n",
    "       returns a DataFrame with columns for\n",
    "       the wealth index, \n",
    "       the previous peaks, and \n",
    "       the percentage drawdown\n",
    "    \"\"\"\n",
    "    wealth_index = 1000*(1+return_series).cumprod()\n",
    "    previous_peaks = wealth_index.cummax()\n",
    "    drawdowns = (wealth_index - previous_peaks)/previous_peaks\n",
    "    return pd.DataFrame({\"Wealth\": wealth_index, \n",
    "                         \"Previous Peak\": previous_peaks, \n",
    "                         \"Drawdown\": drawdowns})"
   ]
  },
  {
   "cell_type": "markdown",
   "id": "4eb34cb4",
   "metadata": {},
   "source": [
    "Low Cap"
   ]
  },
  {
   "cell_type": "code",
   "execution_count": 89,
   "id": "2eb7c6a0",
   "metadata": {},
   "outputs": [
    {
     "data": {
      "text/plain": [
       "-0.6248"
      ]
     },
     "metadata": {},
     "output_type": "display_data"
    },
    {
     "data": {
      "text/html": [
       "<div>\n",
       "<style scoped>\n",
       "    .dataframe tbody tr th:only-of-type {\n",
       "        vertical-align: middle;\n",
       "    }\n",
       "\n",
       "    .dataframe tbody tr th {\n",
       "        vertical-align: top;\n",
       "    }\n",
       "\n",
       "    .dataframe thead th {\n",
       "        text-align: right;\n",
       "    }\n",
       "</style>\n",
       "<table border=\"1\" class=\"dataframe\">\n",
       "  <thead>\n",
       "    <tr style=\"text-align: right;\">\n",
       "      <th></th>\n",
       "      <th>Lo 20</th>\n",
       "      <th>Hi 20</th>\n",
       "    </tr>\n",
       "  </thead>\n",
       "  <tbody>\n",
       "    <tr>\n",
       "      <th>2009-02-01</th>\n",
       "      <td>-0.1144</td>\n",
       "      <td>-0.1095</td>\n",
       "    </tr>\n",
       "  </tbody>\n",
       "</table>\n",
       "</div>"
      ],
      "text/plain": [
       "             Lo 20   Hi 20\n",
       "2009-02-01 -0.1144 -0.1095"
      ]
     },
     "metadata": {},
     "output_type": "display_data"
    }
   ],
   "source": [
    "steepest_dd = drawdown(rets.loc[:,'Lo 20']).Drawdown.min()\n",
    "display(steepest_dd.round(4))\n",
    "display(rets[drawdown(rets.loc[:,'Lo 20']).Drawdown == steepest_dd])"
   ]
  },
  {
   "cell_type": "markdown",
   "id": "ccdd8cba",
   "metadata": {},
   "source": [
    "High cap"
   ]
  },
  {
   "cell_type": "code",
   "execution_count": 90,
   "id": "39584edf",
   "metadata": {},
   "outputs": [
    {
     "data": {
      "text/plain": [
       "-0.5527"
      ]
     },
     "metadata": {},
     "output_type": "display_data"
    },
    {
     "data": {
      "text/html": [
       "<div>\n",
       "<style scoped>\n",
       "    .dataframe tbody tr th:only-of-type {\n",
       "        vertical-align: middle;\n",
       "    }\n",
       "\n",
       "    .dataframe tbody tr th {\n",
       "        vertical-align: top;\n",
       "    }\n",
       "\n",
       "    .dataframe thead th {\n",
       "        text-align: right;\n",
       "    }\n",
       "</style>\n",
       "<table border=\"1\" class=\"dataframe\">\n",
       "  <thead>\n",
       "    <tr style=\"text-align: right;\">\n",
       "      <th></th>\n",
       "      <th>Lo 20</th>\n",
       "      <th>Hi 20</th>\n",
       "    </tr>\n",
       "  </thead>\n",
       "  <tbody>\n",
       "    <tr>\n",
       "      <th>2009-02-01</th>\n",
       "      <td>-0.1144</td>\n",
       "      <td>-0.1095</td>\n",
       "    </tr>\n",
       "  </tbody>\n",
       "</table>\n",
       "</div>"
      ],
      "text/plain": [
       "             Lo 20   Hi 20\n",
       "2009-02-01 -0.1144 -0.1095"
      ]
     },
     "metadata": {},
     "output_type": "display_data"
    }
   ],
   "source": [
    "steepest_dd = drawdown(rets.loc[:,'Hi 20']).Drawdown.min()\n",
    "display(steepest_dd.round(4))\n",
    "display(rets[drawdown(rets.loc[:,'Hi 20']).Drawdown == steepest_dd])"
   ]
  },
  {
   "cell_type": "markdown",
   "id": "8ff6f987",
   "metadata": {},
   "source": [
    "## Semideviation and VaR\n",
    "1. For the remaining questions, use the EDHEC Hedge Fund Indices data set that we used in the lab assignment and load them into Python. Looking at the data since 2009 (including all of 2009) through 2018 which Hedge Fund Index has exhibited the highest semideviation?     \n",
    "2. Looking at the data since 2009 (including all of 2009) which Hedge Fund Index has exhibited the lowest semideviation?   \n",
    "3. Looking at the data since 2009 (including all of 2009) which Hedge Fund Index has been most negatively skewed?     \n",
    "4. Looking at the data since 2000 (including all of 2000) through 2018 which Hedge Fund Index has exhibited the highest kurtosis?     "
   ]
  },
  {
   "cell_type": "code",
   "execution_count": 91,
   "id": "562b8f6f",
   "metadata": {},
   "outputs": [],
   "source": [
    "def semideviation3(r):\n",
    "    \"\"\"\n",
    "    Returns the semideviation aka negative semideviation of r\n",
    "    r must be a Series or a DataFrame, else raises a TypeError\n",
    "    \"\"\"\n",
    "    # Demean returns\n",
    "    excess= r-r.mean()                                   \n",
    "    # Take returns below mean\n",
    "    excess_negative = excess[excess<0]                   \n",
    "    # Square demeaned returns below the mean\n",
    "    excess_negative_square = excess_negative**2          \n",
    "    # number of returns under the mean\n",
    "    n_negative = (excess<0).sum()                        \n",
    "    return (excess_negative_square.sum()/n_negative)**0.5"
   ]
  },
  {
   "cell_type": "code",
   "execution_count": 92,
   "id": "b35bcea7",
   "metadata": {},
   "outputs": [
    {
     "data": {
      "text/html": [
       "<div>\n",
       "<style scoped>\n",
       "    .dataframe tbody tr th:only-of-type {\n",
       "        vertical-align: middle;\n",
       "    }\n",
       "\n",
       "    .dataframe tbody tr th {\n",
       "        vertical-align: top;\n",
       "    }\n",
       "\n",
       "    .dataframe thead th {\n",
       "        text-align: right;\n",
       "    }\n",
       "</style>\n",
       "<table border=\"1\" class=\"dataframe\">\n",
       "  <thead>\n",
       "    <tr style=\"text-align: right;\">\n",
       "      <th></th>\n",
       "      <th>Convertible Arbitrage</th>\n",
       "      <th>CTA Global</th>\n",
       "      <th>Distressed Securities</th>\n",
       "      <th>Emerging Markets</th>\n",
       "      <th>Equity Market Neutral</th>\n",
       "      <th>Event Driven</th>\n",
       "      <th>Fixed Income Arbitrage</th>\n",
       "      <th>Global Macro</th>\n",
       "      <th>Long/Short Equity</th>\n",
       "      <th>Merger Arbitrage</th>\n",
       "      <th>Relative Value</th>\n",
       "      <th>Short Selling</th>\n",
       "      <th>Funds Of Funds</th>\n",
       "    </tr>\n",
       "    <tr>\n",
       "      <th>date</th>\n",
       "      <th></th>\n",
       "      <th></th>\n",
       "      <th></th>\n",
       "      <th></th>\n",
       "      <th></th>\n",
       "      <th></th>\n",
       "      <th></th>\n",
       "      <th></th>\n",
       "      <th></th>\n",
       "      <th></th>\n",
       "      <th></th>\n",
       "      <th></th>\n",
       "      <th></th>\n",
       "    </tr>\n",
       "  </thead>\n",
       "  <tbody>\n",
       "    <tr>\n",
       "      <th>2009-01-31</th>\n",
       "      <td>0.0491</td>\n",
       "      <td>-0.0016</td>\n",
       "      <td>0.0082</td>\n",
       "      <td>-0.0112</td>\n",
       "      <td>0.0079</td>\n",
       "      <td>0.0132</td>\n",
       "      <td>0.0112</td>\n",
       "      <td>0.0029</td>\n",
       "      <td>-0.0017</td>\n",
       "      <td>0.0056</td>\n",
       "      <td>0.0100</td>\n",
       "      <td>0.0282</td>\n",
       "      <td>0.0060</td>\n",
       "    </tr>\n",
       "    <tr>\n",
       "      <th>2009-02-28</th>\n",
       "      <td>0.0164</td>\n",
       "      <td>-0.0031</td>\n",
       "      <td>-0.0122</td>\n",
       "      <td>-0.0133</td>\n",
       "      <td>-0.0046</td>\n",
       "      <td>-0.0091</td>\n",
       "      <td>0.0065</td>\n",
       "      <td>-0.0055</td>\n",
       "      <td>-0.0161</td>\n",
       "      <td>0.0006</td>\n",
       "      <td>-0.0016</td>\n",
       "      <td>0.0328</td>\n",
       "      <td>-0.0037</td>\n",
       "    </tr>\n",
       "    <tr>\n",
       "      <th>2009-03-31</th>\n",
       "      <td>0.0235</td>\n",
       "      <td>-0.0180</td>\n",
       "      <td>0.0022</td>\n",
       "      <td>0.0350</td>\n",
       "      <td>0.0021</td>\n",
       "      <td>0.0117</td>\n",
       "      <td>0.0057</td>\n",
       "      <td>0.0048</td>\n",
       "      <td>0.0188</td>\n",
       "      <td>0.0125</td>\n",
       "      <td>0.0100</td>\n",
       "      <td>-0.0462</td>\n",
       "      <td>0.0008</td>\n",
       "    </tr>\n",
       "    <tr>\n",
       "      <th>2009-04-30</th>\n",
       "      <td>0.0500</td>\n",
       "      <td>-0.0140</td>\n",
       "      <td>0.0387</td>\n",
       "      <td>0.0663</td>\n",
       "      <td>-0.0012</td>\n",
       "      <td>0.0337</td>\n",
       "      <td>0.0221</td>\n",
       "      <td>0.0127</td>\n",
       "      <td>0.0375</td>\n",
       "      <td>0.0081</td>\n",
       "      <td>0.0342</td>\n",
       "      <td>-0.0820</td>\n",
       "      <td>0.0092</td>\n",
       "    </tr>\n",
       "    <tr>\n",
       "      <th>2009-05-31</th>\n",
       "      <td>0.0578</td>\n",
       "      <td>0.0213</td>\n",
       "      <td>0.0504</td>\n",
       "      <td>0.0884</td>\n",
       "      <td>0.0146</td>\n",
       "      <td>0.0442</td>\n",
       "      <td>0.0365</td>\n",
       "      <td>0.0348</td>\n",
       "      <td>0.0516</td>\n",
       "      <td>0.0107</td>\n",
       "      <td>0.0392</td>\n",
       "      <td>0.0008</td>\n",
       "      <td>0.0312</td>\n",
       "    </tr>\n",
       "  </tbody>\n",
       "</table>\n",
       "</div>"
      ],
      "text/plain": [
       "            Convertible Arbitrage  CTA Global  Distressed Securities  \\\n",
       "date                                                                   \n",
       "2009-01-31                 0.0491     -0.0016                 0.0082   \n",
       "2009-02-28                 0.0164     -0.0031                -0.0122   \n",
       "2009-03-31                 0.0235     -0.0180                 0.0022   \n",
       "2009-04-30                 0.0500     -0.0140                 0.0387   \n",
       "2009-05-31                 0.0578      0.0213                 0.0504   \n",
       "\n",
       "            Emerging Markets  Equity Market Neutral  Event Driven  \\\n",
       "date                                                                \n",
       "2009-01-31           -0.0112                 0.0079        0.0132   \n",
       "2009-02-28           -0.0133                -0.0046       -0.0091   \n",
       "2009-03-31            0.0350                 0.0021        0.0117   \n",
       "2009-04-30            0.0663                -0.0012        0.0337   \n",
       "2009-05-31            0.0884                 0.0146        0.0442   \n",
       "\n",
       "            Fixed Income Arbitrage  Global Macro  Long/Short Equity  \\\n",
       "date                                                                  \n",
       "2009-01-31                  0.0112        0.0029            -0.0017   \n",
       "2009-02-28                  0.0065       -0.0055            -0.0161   \n",
       "2009-03-31                  0.0057        0.0048             0.0188   \n",
       "2009-04-30                  0.0221        0.0127             0.0375   \n",
       "2009-05-31                  0.0365        0.0348             0.0516   \n",
       "\n",
       "            Merger Arbitrage  Relative Value  Short Selling  Funds Of Funds  \n",
       "date                                                                         \n",
       "2009-01-31            0.0056          0.0100         0.0282          0.0060  \n",
       "2009-02-28            0.0006         -0.0016         0.0328         -0.0037  \n",
       "2009-03-31            0.0125          0.0100        -0.0462          0.0008  \n",
       "2009-04-30            0.0081          0.0342        -0.0820          0.0092  \n",
       "2009-05-31            0.0107          0.0392         0.0008          0.0312  "
      ]
     },
     "execution_count": 92,
     "metadata": {},
     "output_type": "execute_result"
    }
   ],
   "source": [
    "import pandas as pd\n",
    "import scipy.stats\n",
    "\n",
    "rets = pd.read_csv(\"data/edhec-hedgefundindices.csv\", index_col=0)\n",
    "rets.index = pd.DatetimeIndex(rets.index)\n",
    "# rets = rets.loc[:,['Lo 20', 'Hi 20']]\n",
    "rets = rets.loc['2009':'2018']\n",
    "rets = rets/100\n",
    "rets.head()"
   ]
  },
  {
   "cell_type": "markdown",
   "id": "87215a5d",
   "metadata": {},
   "source": [
    "Short selling has the steepest semideviation"
   ]
  },
  {
   "cell_type": "code",
   "execution_count": 95,
   "id": "9b166eb7",
   "metadata": {},
   "outputs": [
    {
     "data": {
      "text/plain": [
       "Short Selling    0.031207\n",
       "dtype: float64"
      ]
     },
     "execution_count": 95,
     "metadata": {},
     "output_type": "execute_result"
    }
   ],
   "source": [
    "rets.aggregate(semideviation3).sort_values().tail(1)"
   ]
  },
  {
   "cell_type": "markdown",
   "id": "5a193d31",
   "metadata": {},
   "source": [
    "Fixed Income arbitrage has the lowest semideviation."
   ]
  },
  {
   "cell_type": "code",
   "execution_count": 99,
   "id": "746f3e44",
   "metadata": {},
   "outputs": [
    {
     "data": {
      "text/plain": [
       "Fixed Income Arbitrage    0.00649\n",
       "dtype: float64"
      ]
     },
     "execution_count": 99,
     "metadata": {},
     "output_type": "execute_result"
    }
   ],
   "source": [
    "rets.aggregate(semideviation3).sort_values().head(1)"
   ]
  },
  {
   "cell_type": "markdown",
   "id": "49c8aaf7",
   "metadata": {},
   "source": [
    "Equity market neutral has the most negative skew.  \n",
    "The mean is less than the median, therefore most return values are higher than the mean."
   ]
  },
  {
   "cell_type": "code",
   "execution_count": 98,
   "id": "0b305021",
   "metadata": {},
   "outputs": [
    {
     "data": {
      "text/plain": [
       "Equity Market Neutral   -0.896327\n",
       "dtype: float64"
      ]
     },
     "execution_count": 98,
     "metadata": {},
     "output_type": "execute_result"
    }
   ],
   "source": [
    "rets.aggregate(scipy.stats.skew).sort_values().head(1)"
   ]
  },
  {
   "cell_type": "markdown",
   "id": "1df87af2",
   "metadata": {},
   "source": [
    "Fixed income arbitrage has the highest kurtosis during this period.  \n",
    "Their return distribution has a fat tail.  "
   ]
  },
  {
   "cell_type": "code",
   "execution_count": 102,
   "id": "9311bbf2",
   "metadata": {},
   "outputs": [
    {
     "data": {
      "text/plain": [
       "Fixed Income Arbitrage    30.378729\n",
       "dtype: float64"
      ]
     },
     "execution_count": 102,
     "metadata": {},
     "output_type": "execute_result"
    }
   ],
   "source": [
    "import pandas as pd\n",
    "\n",
    "rets = pd.read_csv(\"data/edhec-hedgefundindices.csv\", index_col=0)\n",
    "rets.index = pd.DatetimeIndex(rets.index)\n",
    "# rets = rets.loc[:,['Lo 20', 'Hi 20']]\n",
    "rets = rets.loc['2000':'2018']\n",
    "rets = rets/100\n",
    "rets.head()\n",
    "\n",
    "import scipy.stats\n",
    "rets.aggregate(scipy.stats.kurtosis).sort_values().tail(1)"
   ]
  },
  {
   "cell_type": "markdown",
   "id": "74f6eaa1",
   "metadata": {},
   "source": [
    "15.20  \n",
    "33.67  \n",
    "9.85  \n",
    "19.51  \n",
    "11.44  \n",
    "22.89  \n",
    "6.29  \n",
    "17.27  \n",
    "62.48  \n",
    "2009-02  \n",
    "55.27  \n",
    "2009-02  \n",
    "Short Selling  \n",
    "Fixed Income Arbitrage  \n",
    "Equity Market Neutral  \n",
    "Fixed Income Arbitrage  "
   ]
  },
  {
   "cell_type": "code",
   "execution_count": null,
   "id": "bff021e5",
   "metadata": {},
   "outputs": [],
   "source": []
  }
 ],
 "metadata": {
  "kernelspec": {
   "display_name": "Python 3",
   "language": "python",
   "name": "python3"
  },
  "language_info": {
   "codemirror_mode": {
    "name": "ipython",
    "version": 3
   },
   "file_extension": ".py",
   "mimetype": "text/x-python",
   "name": "python",
   "nbconvert_exporter": "python",
   "pygments_lexer": "ipython3",
   "version": "3.7.4"
  }
 },
 "nbformat": 4,
 "nbformat_minor": 5
}
