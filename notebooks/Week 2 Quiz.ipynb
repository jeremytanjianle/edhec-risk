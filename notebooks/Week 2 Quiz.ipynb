{
 "cells": [
  {
   "cell_type": "code",
   "execution_count": 1,
   "id": "51374bf1",
   "metadata": {},
   "outputs": [
    {
     "data": {
      "text/plain": [
       "['ind49_m_vw_rets.csv',\n",
       " 'F-F_Research_Data_Factors_daily.CSV',\n",
       " 'sample_prices.csv',\n",
       " 'ind30_m_vw_rets.csv',\n",
       " 'Portfolios_Formed_on_ME_monthly_EW.csv',\n",
       " 'ind30_m_size.csv',\n",
       " 'ind30_m_nfirms.csv',\n",
       " 'ind49_m_ew_rets.csv',\n",
       " 'F-F_Research_Data_Factors_m.csv',\n",
       " 'F-F_Research_Data_Factors.CSV',\n",
       " 'ind30_m_ew_rets.csv',\n",
       " 'brka_d_ret.csv',\n",
       " 'ind49_m_nfirms.csv',\n",
       " 'ind49_m_size.csv',\n",
       " 'BRK-A.csv',\n",
       " 'edhec-hedgefundindices.csv']"
      ]
     },
     "execution_count": 1,
     "metadata": {},
     "output_type": "execute_result"
    }
   ],
   "source": [
    "import os\n",
    "\n",
    "if 'notebook' in os.getcwd():\n",
    "    os.chdir('..')\n",
    "os.listdir('data')"
   ]
  },
  {
   "cell_type": "markdown",
   "id": "3ced0737",
   "metadata": {},
   "source": [
    "### 1. Read data\n",
    "Use the EDHEC Hedge Fund Indices data set that we used in the lab assignment as well as in the previous week’s assignments. Load them into Python and perform the following analysis based on data since 2000 (including all of 2000)"
   ]
  },
  {
   "cell_type": "code",
   "execution_count": 93,
   "id": "c62ba28a",
   "metadata": {},
   "outputs": [
    {
     "data": {
      "text/html": [
       "<div>\n",
       "<style scoped>\n",
       "    .dataframe tbody tr th:only-of-type {\n",
       "        vertical-align: middle;\n",
       "    }\n",
       "\n",
       "    .dataframe tbody tr th {\n",
       "        vertical-align: top;\n",
       "    }\n",
       "\n",
       "    .dataframe thead th {\n",
       "        text-align: right;\n",
       "    }\n",
       "</style>\n",
       "<table border=\"1\" class=\"dataframe\">\n",
       "  <thead>\n",
       "    <tr style=\"text-align: right;\">\n",
       "      <th></th>\n",
       "      <th>Convertible Arbitrage</th>\n",
       "      <th>CTA Global</th>\n",
       "      <th>Distressed Securities</th>\n",
       "      <th>Emerging Markets</th>\n",
       "      <th>Equity Market Neutral</th>\n",
       "      <th>Event Driven</th>\n",
       "      <th>Fixed Income Arbitrage</th>\n",
       "      <th>Global Macro</th>\n",
       "      <th>Long/Short Equity</th>\n",
       "      <th>Merger Arbitrage</th>\n",
       "      <th>Relative Value</th>\n",
       "      <th>Short Selling</th>\n",
       "      <th>Funds Of Funds</th>\n",
       "    </tr>\n",
       "    <tr>\n",
       "      <th>date</th>\n",
       "      <th></th>\n",
       "      <th></th>\n",
       "      <th></th>\n",
       "      <th></th>\n",
       "      <th></th>\n",
       "      <th></th>\n",
       "      <th></th>\n",
       "      <th></th>\n",
       "      <th></th>\n",
       "      <th></th>\n",
       "      <th></th>\n",
       "      <th></th>\n",
       "      <th></th>\n",
       "    </tr>\n",
       "  </thead>\n",
       "  <tbody>\n",
       "    <tr>\n",
       "      <th>2000-01-31</th>\n",
       "      <td>0.0227</td>\n",
       "      <td>0.0128</td>\n",
       "      <td>0.0088</td>\n",
       "      <td>0.0077</td>\n",
       "      <td>0.0075</td>\n",
       "      <td>0.0088</td>\n",
       "      <td>0.0041</td>\n",
       "      <td>0.0021</td>\n",
       "      <td>0.0075</td>\n",
       "      <td>0.0143</td>\n",
       "      <td>0.0173</td>\n",
       "      <td>0.0427</td>\n",
       "      <td>0.0169</td>\n",
       "    </tr>\n",
       "    <tr>\n",
       "      <th>2000-02-29</th>\n",
       "      <td>0.0267</td>\n",
       "      <td>-0.0022</td>\n",
       "      <td>0.0421</td>\n",
       "      <td>0.0528</td>\n",
       "      <td>0.0253</td>\n",
       "      <td>0.0346</td>\n",
       "      <td>0.0097</td>\n",
       "      <td>0.0408</td>\n",
       "      <td>0.0699</td>\n",
       "      <td>0.0239</td>\n",
       "      <td>0.0185</td>\n",
       "      <td>-0.1340</td>\n",
       "      <td>0.0666</td>\n",
       "    </tr>\n",
       "    <tr>\n",
       "      <th>2000-03-31</th>\n",
       "      <td>0.0243</td>\n",
       "      <td>-0.0138</td>\n",
       "      <td>0.0103</td>\n",
       "      <td>0.0318</td>\n",
       "      <td>0.0134</td>\n",
       "      <td>0.0069</td>\n",
       "      <td>-0.0061</td>\n",
       "      <td>-0.0104</td>\n",
       "      <td>0.0006</td>\n",
       "      <td>0.0131</td>\n",
       "      <td>0.0163</td>\n",
       "      <td>-0.0230</td>\n",
       "      <td>0.0039</td>\n",
       "    </tr>\n",
       "    <tr>\n",
       "      <th>2000-04-30</th>\n",
       "      <td>0.0223</td>\n",
       "      <td>-0.0241</td>\n",
       "      <td>-0.0101</td>\n",
       "      <td>-0.0541</td>\n",
       "      <td>0.0168</td>\n",
       "      <td>-0.0059</td>\n",
       "      <td>-0.0006</td>\n",
       "      <td>-0.0304</td>\n",
       "      <td>-0.0201</td>\n",
       "      <td>0.0188</td>\n",
       "      <td>0.0092</td>\n",
       "      <td>0.1028</td>\n",
       "      <td>-0.0269</td>\n",
       "    </tr>\n",
       "    <tr>\n",
       "      <th>2000-05-31</th>\n",
       "      <td>0.0149</td>\n",
       "      <td>0.0114</td>\n",
       "      <td>-0.0132</td>\n",
       "      <td>-0.0433</td>\n",
       "      <td>0.0062</td>\n",
       "      <td>-0.0034</td>\n",
       "      <td>0.0107</td>\n",
       "      <td>-0.0070</td>\n",
       "      <td>-0.0097</td>\n",
       "      <td>0.0146</td>\n",
       "      <td>0.0080</td>\n",
       "      <td>0.0704</td>\n",
       "      <td>-0.0122</td>\n",
       "    </tr>\n",
       "  </tbody>\n",
       "</table>\n",
       "</div>"
      ],
      "text/plain": [
       "            Convertible Arbitrage  CTA Global  Distressed Securities  \\\n",
       "date                                                                   \n",
       "2000-01-31                 0.0227      0.0128                 0.0088   \n",
       "2000-02-29                 0.0267     -0.0022                 0.0421   \n",
       "2000-03-31                 0.0243     -0.0138                 0.0103   \n",
       "2000-04-30                 0.0223     -0.0241                -0.0101   \n",
       "2000-05-31                 0.0149      0.0114                -0.0132   \n",
       "\n",
       "            Emerging Markets  Equity Market Neutral  Event Driven  \\\n",
       "date                                                                \n",
       "2000-01-31            0.0077                 0.0075        0.0088   \n",
       "2000-02-29            0.0528                 0.0253        0.0346   \n",
       "2000-03-31            0.0318                 0.0134        0.0069   \n",
       "2000-04-30           -0.0541                 0.0168       -0.0059   \n",
       "2000-05-31           -0.0433                 0.0062       -0.0034   \n",
       "\n",
       "            Fixed Income Arbitrage  Global Macro  Long/Short Equity  \\\n",
       "date                                                                  \n",
       "2000-01-31                  0.0041        0.0021             0.0075   \n",
       "2000-02-29                  0.0097        0.0408             0.0699   \n",
       "2000-03-31                 -0.0061       -0.0104             0.0006   \n",
       "2000-04-30                 -0.0006       -0.0304            -0.0201   \n",
       "2000-05-31                  0.0107       -0.0070            -0.0097   \n",
       "\n",
       "            Merger Arbitrage  Relative Value  Short Selling  Funds Of Funds  \n",
       "date                                                                         \n",
       "2000-01-31            0.0143          0.0173         0.0427          0.0169  \n",
       "2000-02-29            0.0239          0.0185        -0.1340          0.0666  \n",
       "2000-03-31            0.0131          0.0163        -0.0230          0.0039  \n",
       "2000-04-30            0.0188          0.0092         0.1028         -0.0269  \n",
       "2000-05-31            0.0146          0.0080         0.0704         -0.0122  "
      ]
     },
     "execution_count": 93,
     "metadata": {},
     "output_type": "execute_result"
    }
   ],
   "source": [
    "import pandas as pd\n",
    "\n",
    "hfi = pd.read_csv(\"data/edhec-hedgefundindices.csv\", index_col=0)\n",
    "hfi.index = pd.DatetimeIndex(hfi.index, dayfirst=True)\n",
    "\n",
    "hfi = hfi/100\n",
    "hfi = hfi.loc['2000':]\n",
    "hfi.head()"
   ]
  },
  {
   "cell_type": "markdown",
   "id": "ea719798",
   "metadata": {},
   "source": [
    "## Gaussian VaR with Cornish-Fisher Adjustment\n",
    "1. What was the Monthly Parametric Gaussian VaR at the 1% level (as a +ve number) of the Distressed Securities strategy?\n",
    "2. Use the same data set at the previous question. What was the 1% VaR for the same strategy after applying the Cornish-Fisher Adjustment?\n",
    "3. Use the same dataset as the previous question. What was the Monthly Historic VaR at the 1% level (as a +ve number) of the Distressed Securities strategy?"
   ]
  },
  {
   "cell_type": "code",
   "execution_count": 104,
   "id": "08f0c81f",
   "metadata": {},
   "outputs": [],
   "source": [
    "import numpy as np\n",
    "from scipy.stats import norm, kurtosis\n",
    "\n",
    "def skewness(r):\n",
    "    \"\"\"\n",
    "    Alternative to scipy.stats.skew()\n",
    "    Computes the skewness of the supplied Series or DataFrame\n",
    "    Returns a float or a Series\n",
    "    \"\"\"\n",
    "    demeaned_r = r - r.mean()\n",
    "    # use the population standard deviation, so set dof=0\n",
    "    sigma_r = r.std(ddof=0)\n",
    "    exp = (demeaned_r**3).mean()\n",
    "    return exp/sigma_r**3\n",
    "\n",
    "\n",
    "def kurtosis(r):\n",
    "    \"\"\"\n",
    "    Alternative to scipy.stats.kurtosis()\n",
    "    Computes the kurtosis of the supplied Series or DataFrame\n",
    "    Returns a float or a Series\n",
    "    \"\"\"\n",
    "    demeaned_r = r - r.mean()\n",
    "    # use the population standard deviation, so set dof=0\n",
    "    sigma_r = r.std(ddof=0)\n",
    "    exp = (demeaned_r**4).mean()\n",
    "    return exp/sigma_r**4\n",
    "\n",
    "\n",
    "def var_gaussian(r, level=5, modified=False):\n",
    "    \"\"\"\n",
    "    Returns the Parametric Gauusian VaR of a Series or DataFrame\n",
    "    If \"modified\" is True, then the modified VaR is returned,\n",
    "    using the Cornish-Fisher modification\n",
    "    \"\"\"\n",
    "    # compute the Z score assuming it was Gaussian\n",
    "    z = norm.ppf(level/100)\n",
    "    if modified:\n",
    "        # modify the Z score based on observed skewness and kurtosis\n",
    "        s = skewness(r)\n",
    "        k = kurtosis(r)\n",
    "        z = (z +\n",
    "                (z**2 - 1)*s/6 +\n",
    "                (z**3 -3*z)*(k-3)/24 -\n",
    "                (2*z**3 - 5*z)*(s**2)/36\n",
    "            )\n",
    "    return -(r.mean() + z*r.std(ddof=0))\n",
    "\n",
    "def var_historic(r, level=5):\n",
    "    \"\"\"\n",
    "    Returns the historic Value at Risk at a specified level\n",
    "    i.e. returns the number such that \"level\" percent of the returns\n",
    "    fall below that number, and the (100-level) percent are above\n",
    "    \"\"\"\n",
    "    if isinstance(r, pd.DataFrame):\n",
    "        return r.aggregate(var_historic, level=level)\n",
    "    elif isinstance(r, pd.Series):\n",
    "        return -np.percentile(r, level)\n",
    "    else:\n",
    "        raise TypeError(\"Expected r to be a Series or DataFrame\")  "
   ]
  },
  {
   "cell_type": "code",
   "execution_count": 105,
   "id": "314190d9",
   "metadata": {},
   "outputs": [
    {
     "data": {
      "text/plain": [
       "3.14"
      ]
     },
     "execution_count": 105,
     "metadata": {},
     "output_type": "execute_result"
    }
   ],
   "source": [
    "distressed_securities_var = var_gaussian(\n",
    "    hfi.loc[:,'Distressed Securities'],\n",
    "    level=1,\n",
    "    modified=False\n",
    ")\n",
    "(distressed_securities_var *100).round(2)"
   ]
  },
  {
   "cell_type": "code",
   "execution_count": 106,
   "id": "a3851d15",
   "metadata": {},
   "outputs": [
    {
     "data": {
      "text/plain": [
       "4.97"
      ]
     },
     "execution_count": 106,
     "metadata": {},
     "output_type": "execute_result"
    }
   ],
   "source": [
    "distressed_securities_var = var_gaussian(\n",
    "    hfi.loc[:,'Distressed Securities'],\n",
    "    level=1,\n",
    "    modified=True\n",
    ")\n",
    "(distressed_securities_var *100).round(2)"
   ]
  },
  {
   "cell_type": "code",
   "execution_count": 107,
   "id": "30a934fe",
   "metadata": {},
   "outputs": [
    {
     "data": {
      "text/plain": [
       "4.26"
      ]
     },
     "execution_count": 107,
     "metadata": {},
     "output_type": "execute_result"
    }
   ],
   "source": [
    "distressed_securities_var = var_historic(\n",
    "    hfi.loc[:,'Distressed Securities'],\n",
    "    level=1\n",
    ")\n",
    "(distressed_securities_var *100).round(2)"
   ]
  },
  {
   "cell_type": "markdown",
   "id": "a7d00e58",
   "metadata": {},
   "source": [
    "## MSR, EW, GMV"
   ]
  },
  {
   "cell_type": "markdown",
   "id": "99a0db71",
   "metadata": {},
   "source": [
    "Next, load the 30 industry return data using the erk.get_ind_returns() function that we developed during the lab sessions. For purposes of the remaining questions, use data during the 5 year period 2013-2017 (both inclusive) to estimate the expected returns as well as the covariance matrix. To be able to respond to the questions, you will need to build the MSR, EW and GMV portfolios consisting of the “Books”, “Steel”, \"Oil\", and \"Mines\" industries. Assume the risk free rate over the 5 year period is 10%.\n"
   ]
  },
  {
   "cell_type": "code",
   "execution_count": 49,
   "id": "7160a304",
   "metadata": {},
   "outputs": [
    {
     "data": {
      "text/html": [
       "<div>\n",
       "<style scoped>\n",
       "    .dataframe tbody tr th:only-of-type {\n",
       "        vertical-align: middle;\n",
       "    }\n",
       "\n",
       "    .dataframe tbody tr th {\n",
       "        vertical-align: top;\n",
       "    }\n",
       "\n",
       "    .dataframe thead th {\n",
       "        text-align: right;\n",
       "    }\n",
       "</style>\n",
       "<table border=\"1\" class=\"dataframe\">\n",
       "  <thead>\n",
       "    <tr style=\"text-align: right;\">\n",
       "      <th></th>\n",
       "      <th>Books</th>\n",
       "      <th>Steel</th>\n",
       "      <th>Oil</th>\n",
       "      <th>Mines</th>\n",
       "    </tr>\n",
       "  </thead>\n",
       "  <tbody>\n",
       "    <tr>\n",
       "      <th>1926-07</th>\n",
       "      <td>0.1097</td>\n",
       "      <td>0.0407</td>\n",
       "      <td>-0.0140</td>\n",
       "      <td>0.0564</td>\n",
       "    </tr>\n",
       "    <tr>\n",
       "      <th>1926-08</th>\n",
       "      <td>0.1001</td>\n",
       "      <td>0.0217</td>\n",
       "      <td>0.0369</td>\n",
       "      <td>0.0055</td>\n",
       "    </tr>\n",
       "  </tbody>\n",
       "</table>\n",
       "</div>"
      ],
      "text/plain": [
       "          Books   Steel     Oil   Mines\n",
       "1926-07  0.1097  0.0407 -0.0140  0.0564\n",
       "1926-08  0.1001  0.0217  0.0369  0.0055"
      ]
     },
     "metadata": {},
     "output_type": "display_data"
    }
   ],
   "source": [
    "industries = [\"Books\", \"Steel\", \"Oil\", \"Mines\"]\n",
    "rf = 5\n",
    "\n",
    "def get_ind_returns():\n",
    "    \"\"\"\n",
    "    Load and format the Ken French 30 Industry Portfolios Value Weighted Monthly Returns\n",
    "    \"\"\"\n",
    "    ind = pd.read_csv(\"data/ind30_m_vw_rets.csv\", header=0, index_col=0)/100\n",
    "    ind.index = pd.to_datetime(ind.index, format=\"%Y%m\").to_period('M')\n",
    "    ind.columns = ind.columns.str.strip()\n",
    "    return ind\n",
    "\n",
    "ind = get_ind_returns()\n",
    "ind = ind.loc[:,industries]\n",
    "display(ind.head(2))"
   ]
  },
  {
   "cell_type": "code",
   "execution_count": 50,
   "id": "e8be0aa0",
   "metadata": {},
   "outputs": [
    {
     "data": {
      "text/plain": [
       "Books    0.095312\n",
       "Steel    0.100716\n",
       "Oil      0.025275\n",
       "Mines    0.005136\n",
       "dtype: float64"
      ]
     },
     "metadata": {},
     "output_type": "display_data"
    },
    {
     "data": {
      "text/html": [
       "<div>\n",
       "<style scoped>\n",
       "    .dataframe tbody tr th:only-of-type {\n",
       "        vertical-align: middle;\n",
       "    }\n",
       "\n",
       "    .dataframe tbody tr th {\n",
       "        vertical-align: top;\n",
       "    }\n",
       "\n",
       "    .dataframe thead th {\n",
       "        text-align: right;\n",
       "    }\n",
       "</style>\n",
       "<table border=\"1\" class=\"dataframe\">\n",
       "  <thead>\n",
       "    <tr style=\"text-align: right;\">\n",
       "      <th></th>\n",
       "      <th>Books</th>\n",
       "      <th>Steel</th>\n",
       "      <th>Oil</th>\n",
       "      <th>Mines</th>\n",
       "    </tr>\n",
       "  </thead>\n",
       "  <tbody>\n",
       "    <tr>\n",
       "      <th>Books</th>\n",
       "      <td>0.002720</td>\n",
       "      <td>0.001940</td>\n",
       "      <td>0.001637</td>\n",
       "      <td>0.001539</td>\n",
       "    </tr>\n",
       "    <tr>\n",
       "      <th>Steel</th>\n",
       "      <td>0.001940</td>\n",
       "      <td>0.004391</td>\n",
       "      <td>0.002122</td>\n",
       "      <td>0.003391</td>\n",
       "    </tr>\n",
       "    <tr>\n",
       "      <th>Oil</th>\n",
       "      <td>0.001637</td>\n",
       "      <td>0.002122</td>\n",
       "      <td>0.002697</td>\n",
       "      <td>0.002179</td>\n",
       "    </tr>\n",
       "    <tr>\n",
       "      <th>Mines</th>\n",
       "      <td>0.001539</td>\n",
       "      <td>0.003391</td>\n",
       "      <td>0.002179</td>\n",
       "      <td>0.005232</td>\n",
       "    </tr>\n",
       "  </tbody>\n",
       "</table>\n",
       "</div>"
      ],
      "text/plain": [
       "          Books     Steel       Oil     Mines\n",
       "Books  0.002720  0.001940  0.001637  0.001539\n",
       "Steel  0.001940  0.004391  0.002122  0.003391\n",
       "Oil    0.001637  0.002122  0.002697  0.002179\n",
       "Mines  0.001539  0.003391  0.002179  0.005232"
      ]
     },
     "metadata": {},
     "output_type": "display_data"
    }
   ],
   "source": [
    "def annualize_rets(r, periods_per_year):\n",
    "    \"\"\"\n",
    "    Annualizes a set of returns\n",
    "    We should infer the periods per year\n",
    "    but that is currently left as an exercise\n",
    "    to the reader :-)\n",
    "    \"\"\"\n",
    "    compounded_growth = (1+r).prod()\n",
    "    n_periods = r.shape[0]\n",
    "    return compounded_growth**(periods_per_year/n_periods)-1\n",
    "\n",
    "def annualize_vol(r, periods_per_year):\n",
    "    \"\"\"\n",
    "    Annualizes the vol of a set of returns\n",
    "    We should infer the periods per year\n",
    "    but that is currently left as an exercise\n",
    "    to the reader :-)\n",
    "    \"\"\"\n",
    "    return r.std()*(periods_per_year**0.5)\n",
    "\n",
    "def sharpe_ratio(r, riskfree_rate, periods_per_year):\n",
    "    \"\"\"\n",
    "    Computes the annualized sharpe ratio of a set of returns\n",
    "    \"\"\"\n",
    "    # convert the annual riskfree rate to per period\n",
    "    rf_per_period = (1+riskfree_rate)**(1/periods_per_year)-1\n",
    "    excess_ret = r - rf_per_period\n",
    "    ann_ex_ret = annualize_rets(excess_ret, periods_per_year)\n",
    "    ann_vol = annualize_vol(r, periods_per_year)\n",
    "    return ann_ex_ret/ann_vol\n",
    "\n",
    "\n",
    "er = annualize_rets(ind[\"2013\":\"2017\"], 12)\n",
    "display(er)\n",
    "\n",
    "cov = ind[\"2013\":\"2017\"].cov()\n",
    "display(cov)"
   ]
  },
  {
   "cell_type": "markdown",
   "id": "c2848bb1",
   "metadata": {},
   "source": [
    "1. What is the weight of Steel in the EW Portfolio? `25%`\n",
    "2. What is the weight of the largest component of the MSR portfolio?   \n",
    "3. Which of the 4 components has the largest weight in the MSR portfolio?\n",
    "4. How many of the components of the MSR portfolio have non-zero weights?  \n",
    "5. What is the weight of the largest component of the GMV portfolio?\n",
    "6. Which of the 4 components has the largest weight in the GMV portfolio?    \n",
    "7.  How many of the components of the GMV portfolio have non-zero weights?    "
   ]
  },
  {
   "cell_type": "code",
   "execution_count": 58,
   "id": "6ddeb10b",
   "metadata": {},
   "outputs": [],
   "source": [
    "from scipy.optimize import minimize\n",
    "\n",
    "def portfolio_return(weights, returns):\n",
    "    \"\"\"\n",
    "    Computes the return on a portfolio from constituent returns and weights\n",
    "    weights are a numpy array or Nx1 matrix and returns are a numpy array or Nx1 matrix\n",
    "    \"\"\"\n",
    "    return weights.T @ returns\n",
    "\n",
    "def portfolio_vol(weights, covmat):\n",
    "    \"\"\"\n",
    "    Computes the vol of a portfolio from a covariance matrix and constituent weights\n",
    "    weights are a numpy array or N x 1 maxtrix and covmat is an N x N matrix\n",
    "    \"\"\"\n",
    "    return (weights.T @ covmat @ weights)**0.5\n",
    "\n",
    "def msr(riskfree_rate, er, cov):\n",
    "    \"\"\"\n",
    "    Returns the weights of the portfolio that gives you the maximum sharpe ratio\n",
    "    given the riskfree rate and expected returns and a covariance matrix\n",
    "    \"\"\"\n",
    "    n = er.shape[0]\n",
    "    init_guess = np.repeat(1/n, n)\n",
    "    bounds = ((0.0, 1.0),) * n # an N-tuple of 2-tuples!\n",
    "    # construct the constraints\n",
    "    weights_sum_to_1 = {'type': 'eq',\n",
    "                        'fun': lambda weights: np.sum(weights) - 1\n",
    "    }\n",
    "    def neg_sharpe(weights, riskfree_rate, er, cov):\n",
    "        \"\"\"\n",
    "        Returns the negative of the sharpe ratio\n",
    "        of the given portfolio\n",
    "        \"\"\"\n",
    "        r = portfolio_return(weights, er)\n",
    "        vol = portfolio_vol(weights, cov)\n",
    "        return -(r - riskfree_rate)/vol\n",
    "    \n",
    "    weights = minimize(neg_sharpe, init_guess,\n",
    "                       args=(riskfree_rate, er, cov), method='SLSQP',\n",
    "                       options={'disp': False},\n",
    "                       constraints=(weights_sum_to_1,),\n",
    "                       bounds=bounds)\n",
    "    return weights.x\n",
    "\n",
    "def gmv(cov):\n",
    "    \"\"\"\n",
    "    Returns the weights of the Global Minimum Volatility portfolio\n",
    "    given a covariance matrix\n",
    "    \"\"\"\n",
    "    n = cov.shape[0]\n",
    "    return msr(0, np.repeat(1, n), cov)"
   ]
  },
  {
   "cell_type": "markdown",
   "id": "d39c1e7c",
   "metadata": {},
   "source": [
    "All industries would have weight of `25.0`% in EW portfolio.  \n",
    "Largest MSR component is `Steel` with weight of `100.0`%.  \n",
    "Only `1` component has non zero weights."
   ]
  },
  {
   "cell_type": "code",
   "execution_count": 64,
   "id": "9f96c2ca",
   "metadata": {},
   "outputs": [
    {
     "data": {
      "text/plain": [
       "Books      0.0\n",
       "Steel    100.0\n",
       "Oil        0.0\n",
       "Mines      0.0\n",
       "dtype: float64"
      ]
     },
     "execution_count": 64,
     "metadata": {},
     "output_type": "execute_result"
    }
   ],
   "source": [
    "msr_weights = pd.Series(msr(0.10, er, cov).round(2), index=industries)\n",
    "msr_weights*100"
   ]
  },
  {
   "cell_type": "markdown",
   "id": "51bb6d36",
   "metadata": {},
   "source": [
    "Largest weight in GMV portfolio is `47.70` .  \n",
    "Largest component is `Books` .  \n",
    "Only `3` components have non-zero weights.  "
   ]
  },
  {
   "cell_type": "code",
   "execution_count": 63,
   "id": "eecdb9c7",
   "metadata": {},
   "outputs": [
    {
     "data": {
      "text/plain": [
       "Books    47.70\n",
       "Steel     0.00\n",
       "Oil      43.41\n",
       "Mines     8.89\n",
       "dtype: float64"
      ]
     },
     "execution_count": 63,
     "metadata": {},
     "output_type": "execute_result"
    }
   ],
   "source": [
    "gmv_weights = pd.Series(gmv(cov).round(4), index=industries)\n",
    "gmv_weights*100"
   ]
  },
  {
   "cell_type": "code",
   "execution_count": 66,
   "id": "a9d8372a",
   "metadata": {},
   "outputs": [
    {
     "name": "stderr",
     "output_type": "stream",
     "text": [
      "/home/jeremy/anaconda3/envs/regime/lib/python3.7/site-packages/ipykernel_launcher.py:1: FutureWarning: Indexing a DataFrame with a datetimelike index using a single string to slice the rows, like `frame[string]`, is deprecated and will be removed in a future version. Use `frame.loc[string]` instead.\n",
      "  \"\"\"Entry point for launching an IPython kernel.\n"
     ]
    },
    {
     "data": {
      "text/plain": [
       "Books   -0.252523\n",
       "Steel   -0.273127\n",
       "Oil     -0.181373\n",
       "Mines   -0.307972\n",
       "dtype: float64"
      ]
     },
     "metadata": {},
     "output_type": "display_data"
    },
    {
     "name": "stderr",
     "output_type": "stream",
     "text": [
      "/home/jeremy/anaconda3/envs/regime/lib/python3.7/site-packages/ipykernel_launcher.py:4: FutureWarning: Indexing a DataFrame with a datetimelike index using a single string to slice the rows, like `frame[string]`, is deprecated and will be removed in a future version. Use `frame.loc[string]` instead.\n",
      "  after removing the cwd from sys.path.\n"
     ]
    },
    {
     "data": {
      "text/html": [
       "<div>\n",
       "<style scoped>\n",
       "    .dataframe tbody tr th:only-of-type {\n",
       "        vertical-align: middle;\n",
       "    }\n",
       "\n",
       "    .dataframe tbody tr th {\n",
       "        vertical-align: top;\n",
       "    }\n",
       "\n",
       "    .dataframe thead th {\n",
       "        text-align: right;\n",
       "    }\n",
       "</style>\n",
       "<table border=\"1\" class=\"dataframe\">\n",
       "  <thead>\n",
       "    <tr style=\"text-align: right;\">\n",
       "      <th></th>\n",
       "      <th>Books</th>\n",
       "      <th>Steel</th>\n",
       "      <th>Oil</th>\n",
       "      <th>Mines</th>\n",
       "    </tr>\n",
       "  </thead>\n",
       "  <tbody>\n",
       "    <tr>\n",
       "      <th>Books</th>\n",
       "      <td>0.002799</td>\n",
       "      <td>0.002098</td>\n",
       "      <td>0.002558</td>\n",
       "      <td>0.001629</td>\n",
       "    </tr>\n",
       "    <tr>\n",
       "      <th>Steel</th>\n",
       "      <td>0.002098</td>\n",
       "      <td>0.004027</td>\n",
       "      <td>0.003473</td>\n",
       "      <td>0.001843</td>\n",
       "    </tr>\n",
       "    <tr>\n",
       "      <th>Oil</th>\n",
       "      <td>0.002558</td>\n",
       "      <td>0.003473</td>\n",
       "      <td>0.005296</td>\n",
       "      <td>0.001961</td>\n",
       "    </tr>\n",
       "    <tr>\n",
       "      <th>Mines</th>\n",
       "      <td>0.001629</td>\n",
       "      <td>0.001843</td>\n",
       "      <td>0.001961</td>\n",
       "      <td>0.002059</td>\n",
       "    </tr>\n",
       "  </tbody>\n",
       "</table>\n",
       "</div>"
      ],
      "text/plain": [
       "          Books     Steel       Oil     Mines\n",
       "Books  0.002799  0.002098  0.002558  0.001629\n",
       "Steel  0.002098  0.004027  0.003473  0.001843\n",
       "Oil    0.002558  0.003473  0.005296  0.001961\n",
       "Mines  0.001629  0.001843  0.001961  0.002059"
      ]
     },
     "metadata": {},
     "output_type": "display_data"
    }
   ],
   "source": [
    "er = annualize_rets(ind[\"2018\"], 12)\n",
    "display(er)\n",
    "\n",
    "cov = ind[\"2018\"].cov()\n",
    "display(cov)"
   ]
  },
  {
   "cell_type": "code",
   "execution_count": 68,
   "id": "4a386aa6",
   "metadata": {},
   "outputs": [
    {
     "data": {
      "text/plain": [
       "array([0., 1., 0., 0.])"
      ]
     },
     "execution_count": 68,
     "metadata": {},
     "output_type": "execute_result"
    }
   ],
   "source": [
    "msr_weights.values"
   ]
  },
  {
   "cell_type": "markdown",
   "id": "a5b7d2ba",
   "metadata": {},
   "source": [
    "## OOS results of GMV and MSR"
   ]
  },
  {
   "cell_type": "markdown",
   "id": "82c1d57b",
   "metadata": {},
   "source": [
    "Assume two different investors invested in the GMV and MSR portfolios at the start of 2018 using the weights we just computed. Compute the annualized volatility of these two portfolios over the next 12 months of 2018?\n",
    "\n",
    "(Hint: Use the portfolio_vol code we developed in the lab and use ind[“2018”][l].cov() to compute the covariance matrix for 2018, assuming that the variable ind holds the industry returns and the variable l holds the list of industry portfolios you are willing to hold. Don’t forget to annualize the volatility)"
   ]
  },
  {
   "cell_type": "code",
   "execution_count": 75,
   "id": "c6ce980e",
   "metadata": {},
   "outputs": [
    {
     "data": {
      "text/plain": [
       "21.98"
      ]
     },
     "execution_count": 75,
     "metadata": {},
     "output_type": "execute_result"
    }
   ],
   "source": [
    "(portfolio_vol(msr_weights.values, cov)*np.sqrt(12) *100).round(2)"
   ]
  },
  {
   "cell_type": "markdown",
   "id": "842a0997",
   "metadata": {},
   "source": [
    "What would be the annualized volatility over 2018 using the weights of the GMV portfolio? \n",
    "\n",
    "(Reminder and Hint: Use the portfolio_vol code we developed in the lab and use ind[“2018”][l].cov() to compute the covariance matrix for 2018, assuming that the variable ind holds the industry returns and the variable l holds the list of industry portfolios you are willing to hold. Don’t forget to annualize the volatility) "
   ]
  },
  {
   "cell_type": "code",
   "execution_count": 74,
   "id": "d37cca8a",
   "metadata": {},
   "outputs": [
    {
     "data": {
      "text/plain": [
       "18.97"
      ]
     },
     "execution_count": 74,
     "metadata": {},
     "output_type": "execute_result"
    }
   ],
   "source": [
    "(portfolio_vol(gmv_weights.values, cov)*np.sqrt(12) *100).round(2)"
   ]
  },
  {
   "cell_type": "code",
   "execution_count": null,
   "id": "2d806fad",
   "metadata": {},
   "outputs": [],
   "source": []
  }
 ],
 "metadata": {
  "kernelspec": {
   "display_name": "Python 3",
   "language": "python",
   "name": "python3"
  },
  "language_info": {
   "codemirror_mode": {
    "name": "ipython",
    "version": 3
   },
   "file_extension": ".py",
   "mimetype": "text/x-python",
   "name": "python",
   "nbconvert_exporter": "python",
   "pygments_lexer": "ipython3",
   "version": "3.7.4"
  }
 },
 "nbformat": 4,
 "nbformat_minor": 5
}
